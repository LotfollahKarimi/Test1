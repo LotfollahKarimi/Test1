{
  "nbformat": 4,
  "nbformat_minor": 0,
  "metadata": {
    "colab": {
      "provenance": [],
      "authorship_tag": "ABX9TyN6zspv3KzxfLvGlVChVwSf",
      "include_colab_link": true
    },
    "kernelspec": {
      "name": "python3",
      "display_name": "Python 3"
    },
    "language_info": {
      "name": "python"
    }
  },
  "cells": [
    {
      "cell_type": "markdown",
      "metadata": {
        "id": "view-in-github",
        "colab_type": "text"
      },
      "source": [
        "<a href=\"https://colab.research.google.com/github/LotfollahKarimi/Test1/blob/main/Untitled7.ipynb\" target=\"_parent\"><img src=\"https://colab.research.google.com/assets/colab-badge.svg\" alt=\"Open In Colab\"/></a>"
      ]
    },
    {
      "cell_type": "code",
      "execution_count": 18,
      "metadata": {
        "colab": {
          "base_uri": "https://localhost:8080/"
        },
        "id": "rqmOulkM5gPv",
        "outputId": "362034d6-5130-40a5-d0f9-4e14ab4c70f7"
      },
      "outputs": [
        {
          "output_type": "execute_result",
          "data": {
            "text/plain": [
              "satisfaction_level       float64\n",
              "last_evaluation          float64\n",
              "number_project             int64\n",
              "average_montly_hours       int64\n",
              "time_spend_company         int64\n",
              "Work_accident              int64\n",
              "left                       int64\n",
              "promotion_last_5years      int64\n",
              "sales                     object\n",
              "salary                    object\n",
              "dtype: object"
            ]
          },
          "metadata": {},
          "execution_count": 18
        }
      ],
      "source": [
        "import pandas as pd\n",
        "url = 'https://raw.githubusercontent.com/LotfollahKarimi/Test1/main/HR_comma_sep.csv'\n",
        "data = pd.read_csv(url)\n",
        "#salaries CSV\n",
        "data.head()\n",
        "data.shape\n",
        "data.dtypes"
      ]
    },
    {
      "cell_type": "code",
      "source": [
        "# Import LabelEncoder\n",
        "from sklearn import preprocessing\n",
        "\n",
        "# Creating labelEncoder\n",
        "le = preprocessing.LabelEncoder()\n",
        "\n",
        "# Converting string labels into numbers.\n",
        "data['salary']=le.fit_transform(data['salary'])\n",
        "data['sales']=le.fit_transform(data['sales'])"
      ],
      "metadata": {
        "id": "7IYrXbqkZQ_X"
      },
      "execution_count": 19,
      "outputs": []
    },
    {
      "cell_type": "code",
      "source": [
        "data.dtypes"
      ],
      "metadata": {
        "colab": {
          "base_uri": "https://localhost:8080/"
        },
        "id": "ccBQfWqjO15r",
        "outputId": "01f752f4-306f-4050-bb16-e5be63387e97"
      },
      "execution_count": 20,
      "outputs": [
        {
          "output_type": "execute_result",
          "data": {
            "text/plain": [
              "satisfaction_level       float64\n",
              "last_evaluation          float64\n",
              "number_project             int64\n",
              "average_montly_hours       int64\n",
              "time_spend_company         int64\n",
              "Work_accident              int64\n",
              "left                       int64\n",
              "promotion_last_5years      int64\n",
              "sales                      int64\n",
              "salary                     int64\n",
              "dtype: object"
            ]
          },
          "metadata": {},
          "execution_count": 20
        }
      ]
    },
    {
      "cell_type": "code",
      "source": [
        "# Spliting data into Feature and\n",
        "X=data[['satisfaction_level', 'last_evaluation', 'number_project', 'average_montly_hours', 'time_spend_company', 'Work_accident', 'promotion_last_5years', 'sales', 'salary']]\n",
        "y=data['left']\n",
        "\n",
        "# Import train_test_split function\n",
        "from sklearn.model_selection import train_test_split\n",
        "\n",
        "# Split dataset into training set and test set\n",
        "X_train, X_test, y_train, y_test = train_test_split(X, y, test_size=0.3, random_state=42)  # 70% training and 30% test"
      ],
      "metadata": {
        "id": "Y_gVDv08D4Bf"
      },
      "execution_count": 23,
      "outputs": []
    },
    {
      "cell_type": "code",
      "source": [
        "# Import MLPClassifer\n",
        "from sklearn.neural_network import MLPClassifier\n",
        "\n",
        "# Create model object\n",
        "clf = MLPClassifier(hidden_layer_sizes=(6,5),\n",
        "                    random_state=5,\n",
        "                    verbose=True,\n",
        "                    learning_rate_init=0.01)\n",
        "\n",
        "# Fit data onto the model\n",
        "clf.fit(X_train,y_train)"
      ],
      "metadata": {
        "colab": {
          "base_uri": "https://localhost:8080/",
          "height": 1000
        },
        "id": "dVYmaAV2PeUk",
        "outputId": "44b19cbc-77db-4238-e9f0-c800404198a0"
      },
      "execution_count": 24,
      "outputs": [
        {
          "output_type": "stream",
          "name": "stdout",
          "text": [
            "Iteration 1, loss = 0.61512605\n",
            "Iteration 2, loss = 0.57545658\n",
            "Iteration 3, loss = 0.55823146\n",
            "Iteration 4, loss = 0.53011644\n",
            "Iteration 5, loss = 0.50549749\n",
            "Iteration 6, loss = 0.48004244\n",
            "Iteration 7, loss = 0.47915513\n",
            "Iteration 8, loss = 0.46239153\n",
            "Iteration 9, loss = 0.47441120\n",
            "Iteration 10, loss = 0.46241650\n",
            "Iteration 11, loss = 0.45068143\n",
            "Iteration 12, loss = 0.45071101\n",
            "Iteration 13, loss = 0.45213613\n",
            "Iteration 14, loss = 0.46049483\n",
            "Iteration 15, loss = 0.45897398\n",
            "Iteration 16, loss = 0.46170601\n",
            "Iteration 17, loss = 0.45527116\n",
            "Iteration 18, loss = 0.44996595\n",
            "Iteration 19, loss = 0.44982305\n",
            "Iteration 20, loss = 0.45384764\n",
            "Iteration 21, loss = 0.46981282\n",
            "Iteration 22, loss = 0.45010489\n",
            "Iteration 23, loss = 0.46852413\n",
            "Iteration 24, loss = 0.45242336\n",
            "Iteration 25, loss = 0.45769894\n",
            "Iteration 26, loss = 0.45074974\n",
            "Iteration 27, loss = 0.44067556\n",
            "Iteration 28, loss = 0.43205930\n",
            "Iteration 29, loss = 0.41680331\n",
            "Iteration 30, loss = 0.40752887\n",
            "Iteration 31, loss = 0.39186392\n",
            "Iteration 32, loss = 0.37054743\n",
            "Iteration 33, loss = 0.35797517\n",
            "Iteration 34, loss = 0.34539661\n",
            "Iteration 35, loss = 0.33669847\n",
            "Iteration 36, loss = 0.33052333\n",
            "Iteration 37, loss = 0.31754074\n",
            "Iteration 38, loss = 0.31470388\n",
            "Iteration 39, loss = 0.31036267\n",
            "Iteration 40, loss = 0.30717479\n",
            "Iteration 41, loss = 0.31789566\n",
            "Iteration 42, loss = 0.31782866\n",
            "Iteration 43, loss = 0.30641517\n",
            "Iteration 44, loss = 0.30123487\n",
            "Iteration 45, loss = 0.30474254\n",
            "Iteration 46, loss = 0.31051473\n",
            "Iteration 47, loss = 0.28624198\n",
            "Iteration 48, loss = 0.29316190\n",
            "Iteration 49, loss = 0.28463864\n",
            "Iteration 50, loss = 0.28582673\n",
            "Iteration 51, loss = 0.28378548\n",
            "Iteration 52, loss = 0.28098729\n",
            "Iteration 53, loss = 0.28513299\n",
            "Iteration 54, loss = 0.27992380\n",
            "Iteration 55, loss = 0.28034603\n",
            "Iteration 56, loss = 0.28447776\n",
            "Iteration 57, loss = 0.27920526\n",
            "Iteration 58, loss = 0.27545140\n",
            "Iteration 59, loss = 0.27418263\n",
            "Iteration 60, loss = 0.26921345\n",
            "Iteration 61, loss = 0.27200225\n",
            "Iteration 62, loss = 0.26757142\n",
            "Iteration 63, loss = 0.26824884\n",
            "Iteration 64, loss = 0.26115995\n",
            "Iteration 65, loss = 0.25875549\n",
            "Iteration 66, loss = 0.25919820\n",
            "Iteration 67, loss = 0.26178076\n",
            "Iteration 68, loss = 0.26228984\n",
            "Iteration 69, loss = 0.26001505\n",
            "Iteration 70, loss = 0.25199503\n",
            "Iteration 71, loss = 0.27545142\n",
            "Iteration 72, loss = 0.25545200\n",
            "Iteration 73, loss = 0.25464872\n",
            "Iteration 74, loss = 0.24550959\n",
            "Iteration 75, loss = 0.24336325\n",
            "Iteration 76, loss = 0.24215966\n",
            "Iteration 77, loss = 0.23850104\n",
            "Iteration 78, loss = 0.23889253\n",
            "Iteration 79, loss = 0.23109586\n",
            "Iteration 80, loss = 0.23399638\n",
            "Iteration 81, loss = 0.23802679\n",
            "Iteration 82, loss = 0.23385322\n",
            "Iteration 83, loss = 0.24284518\n",
            "Iteration 84, loss = 0.23134733\n",
            "Iteration 85, loss = 0.24330075\n",
            "Iteration 86, loss = 0.22532877\n",
            "Iteration 87, loss = 0.22568393\n",
            "Iteration 88, loss = 0.22081075\n",
            "Iteration 89, loss = 0.22846698\n",
            "Iteration 90, loss = 0.22502850\n",
            "Iteration 91, loss = 0.21784989\n",
            "Iteration 92, loss = 0.21292884\n",
            "Iteration 93, loss = 0.18813462\n",
            "Iteration 94, loss = 0.17769639\n",
            "Iteration 95, loss = 0.18582654\n",
            "Iteration 96, loss = 0.18127325\n",
            "Iteration 97, loss = 0.16734828\n",
            "Iteration 98, loss = 0.18286465\n",
            "Iteration 99, loss = 0.16981846\n",
            "Iteration 100, loss = 0.17330641\n",
            "Iteration 101, loss = 0.15969499\n",
            "Iteration 102, loss = 0.15829448\n",
            "Iteration 103, loss = 0.15677615\n",
            "Iteration 104, loss = 0.16861506\n",
            "Iteration 105, loss = 0.15665635\n",
            "Iteration 106, loss = 0.17290740\n",
            "Iteration 107, loss = 0.16313185\n",
            "Iteration 108, loss = 0.15127830\n",
            "Iteration 109, loss = 0.15304460\n",
            "Iteration 110, loss = 0.15963898\n",
            "Iteration 111, loss = 0.16963601\n",
            "Iteration 112, loss = 0.15063887\n",
            "Iteration 113, loss = 0.15393529\n",
            "Iteration 114, loss = 0.17528787\n",
            "Iteration 115, loss = 0.17271381\n",
            "Iteration 116, loss = 0.15426095\n",
            "Iteration 117, loss = 0.14971746\n",
            "Iteration 118, loss = 0.15078193\n",
            "Iteration 119, loss = 0.16200046\n",
            "Iteration 120, loss = 0.15242240\n",
            "Iteration 121, loss = 0.15700943\n",
            "Iteration 122, loss = 0.15836204\n",
            "Iteration 123, loss = 0.15847074\n",
            "Iteration 124, loss = 0.15069127\n",
            "Iteration 125, loss = 0.14876175\n",
            "Iteration 126, loss = 0.14993943\n",
            "Iteration 127, loss = 0.15168619\n",
            "Iteration 128, loss = 0.16245349\n",
            "Iteration 129, loss = 0.15119375\n",
            "Iteration 130, loss = 0.15576164\n",
            "Iteration 131, loss = 0.15837115\n",
            "Iteration 132, loss = 0.15242943\n",
            "Iteration 133, loss = 0.15235532\n",
            "Iteration 134, loss = 0.15423949\n",
            "Iteration 135, loss = 0.15300715\n",
            "Iteration 136, loss = 0.15038034\n",
            "Training loss did not improve more than tol=0.000100 for 10 consecutive epochs. Stopping.\n"
          ]
        },
        {
          "output_type": "execute_result",
          "data": {
            "text/plain": [
              "MLPClassifier(hidden_layer_sizes=(6, 5), learning_rate_init=0.01,\n",
              "              random_state=5, verbose=True)"
            ],
            "text/html": [
              "<style>#sk-container-id-1 {color: black;background-color: white;}#sk-container-id-1 pre{padding: 0;}#sk-container-id-1 div.sk-toggleable {background-color: white;}#sk-container-id-1 label.sk-toggleable__label {cursor: pointer;display: block;width: 100%;margin-bottom: 0;padding: 0.3em;box-sizing: border-box;text-align: center;}#sk-container-id-1 label.sk-toggleable__label-arrow:before {content: \"▸\";float: left;margin-right: 0.25em;color: #696969;}#sk-container-id-1 label.sk-toggleable__label-arrow:hover:before {color: black;}#sk-container-id-1 div.sk-estimator:hover label.sk-toggleable__label-arrow:before {color: black;}#sk-container-id-1 div.sk-toggleable__content {max-height: 0;max-width: 0;overflow: hidden;text-align: left;background-color: #f0f8ff;}#sk-container-id-1 div.sk-toggleable__content pre {margin: 0.2em;color: black;border-radius: 0.25em;background-color: #f0f8ff;}#sk-container-id-1 input.sk-toggleable__control:checked~div.sk-toggleable__content {max-height: 200px;max-width: 100%;overflow: auto;}#sk-container-id-1 input.sk-toggleable__control:checked~label.sk-toggleable__label-arrow:before {content: \"▾\";}#sk-container-id-1 div.sk-estimator input.sk-toggleable__control:checked~label.sk-toggleable__label {background-color: #d4ebff;}#sk-container-id-1 div.sk-label input.sk-toggleable__control:checked~label.sk-toggleable__label {background-color: #d4ebff;}#sk-container-id-1 input.sk-hidden--visually {border: 0;clip: rect(1px 1px 1px 1px);clip: rect(1px, 1px, 1px, 1px);height: 1px;margin: -1px;overflow: hidden;padding: 0;position: absolute;width: 1px;}#sk-container-id-1 div.sk-estimator {font-family: monospace;background-color: #f0f8ff;border: 1px dotted black;border-radius: 0.25em;box-sizing: border-box;margin-bottom: 0.5em;}#sk-container-id-1 div.sk-estimator:hover {background-color: #d4ebff;}#sk-container-id-1 div.sk-parallel-item::after {content: \"\";width: 100%;border-bottom: 1px solid gray;flex-grow: 1;}#sk-container-id-1 div.sk-label:hover label.sk-toggleable__label {background-color: #d4ebff;}#sk-container-id-1 div.sk-serial::before {content: \"\";position: absolute;border-left: 1px solid gray;box-sizing: border-box;top: 0;bottom: 0;left: 50%;z-index: 0;}#sk-container-id-1 div.sk-serial {display: flex;flex-direction: column;align-items: center;background-color: white;padding-right: 0.2em;padding-left: 0.2em;position: relative;}#sk-container-id-1 div.sk-item {position: relative;z-index: 1;}#sk-container-id-1 div.sk-parallel {display: flex;align-items: stretch;justify-content: center;background-color: white;position: relative;}#sk-container-id-1 div.sk-item::before, #sk-container-id-1 div.sk-parallel-item::before {content: \"\";position: absolute;border-left: 1px solid gray;box-sizing: border-box;top: 0;bottom: 0;left: 50%;z-index: -1;}#sk-container-id-1 div.sk-parallel-item {display: flex;flex-direction: column;z-index: 1;position: relative;background-color: white;}#sk-container-id-1 div.sk-parallel-item:first-child::after {align-self: flex-end;width: 50%;}#sk-container-id-1 div.sk-parallel-item:last-child::after {align-self: flex-start;width: 50%;}#sk-container-id-1 div.sk-parallel-item:only-child::after {width: 0;}#sk-container-id-1 div.sk-dashed-wrapped {border: 1px dashed gray;margin: 0 0.4em 0.5em 0.4em;box-sizing: border-box;padding-bottom: 0.4em;background-color: white;}#sk-container-id-1 div.sk-label label {font-family: monospace;font-weight: bold;display: inline-block;line-height: 1.2em;}#sk-container-id-1 div.sk-label-container {text-align: center;}#sk-container-id-1 div.sk-container {/* jupyter's `normalize.less` sets `[hidden] { display: none; }` but bootstrap.min.css set `[hidden] { display: none !important; }` so we also need the `!important` here to be able to override the default hidden behavior on the sphinx rendered scikit-learn.org. See: https://github.com/scikit-learn/scikit-learn/issues/21755 */display: inline-block !important;position: relative;}#sk-container-id-1 div.sk-text-repr-fallback {display: none;}</style><div id=\"sk-container-id-1\" class=\"sk-top-container\"><div class=\"sk-text-repr-fallback\"><pre>MLPClassifier(hidden_layer_sizes=(6, 5), learning_rate_init=0.01,\n",
              "              random_state=5, verbose=True)</pre><b>In a Jupyter environment, please rerun this cell to show the HTML representation or trust the notebook. <br />On GitHub, the HTML representation is unable to render, please try loading this page with nbviewer.org.</b></div><div class=\"sk-container\" hidden><div class=\"sk-item\"><div class=\"sk-estimator sk-toggleable\"><input class=\"sk-toggleable__control sk-hidden--visually\" id=\"sk-estimator-id-1\" type=\"checkbox\" checked><label for=\"sk-estimator-id-1\" class=\"sk-toggleable__label sk-toggleable__label-arrow\">MLPClassifier</label><div class=\"sk-toggleable__content\"><pre>MLPClassifier(hidden_layer_sizes=(6, 5), learning_rate_init=0.01,\n",
              "              random_state=5, verbose=True)</pre></div></div></div></div></div>"
            ]
          },
          "metadata": {},
          "execution_count": 24
        }
      ]
    },
    {
      "cell_type": "code",
      "source": [
        "# Make prediction on test dataset\n",
        "ypred=clf.predict(X_test)\n",
        "\n",
        "# Import accuracy score\n",
        "from sklearn.metrics import accuracy_score\n",
        "\n",
        "# Calcuate accuracy\n",
        "accuracy_score(y_test,ypred)"
      ],
      "metadata": {
        "colab": {
          "base_uri": "https://localhost:8080/"
        },
        "id": "RX0co6nbP_ER",
        "outputId": "822326bb-b058-4f22-80c4-f9ad533cb3dd"
      },
      "execution_count": 25,
      "outputs": [
        {
          "output_type": "execute_result",
          "data": {
            "text/plain": [
              "0.9386666666666666"
            ]
          },
          "metadata": {},
          "execution_count": 25
        }
      ]
    }
  ]
}